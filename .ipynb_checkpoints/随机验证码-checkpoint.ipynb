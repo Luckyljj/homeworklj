{
 "cells": [
  {
   "cell_type": "code",
   "execution_count": 25,
   "metadata": {},
   "outputs": [
    {
     "name": "stdout",
     "output_type": "stream",
     "text": [
      "gVC9tI\n",
      "cN0Lhq\n"
     ]
    }
   ],
   "source": [
    "import random\n",
    "def ad( ):\n",
    "    list=[]\n",
    "    for i in range(10):\n",
    "        list.append(str(i))\n",
    "    for i in range(65,91):\n",
    "        list.append(chr(i))\n",
    "    for i in range(97,123):\n",
    "         list.append(chr(i))\n",
    "    my=random.sample(list,6)\n",
    "    ad=''.join(my)\n",
    "    return ad\n",
    "a=ad()\n",
    "b=ad()\n",
    "print(a)\n",
    "print(b)"
   ]
  }
 ],
 "metadata": {
  "kernelspec": {
   "display_name": "Python 3",
   "language": "python",
   "name": "python3"
  },
  "language_info": {
   "codemirror_mode": {
    "name": "ipython",
    "version": 3
   },
   "file_extension": ".py",
   "mimetype": "text/x-python",
   "name": "python",
   "nbconvert_exporter": "python",
   "pygments_lexer": "ipython3",
   "version": "3.7.0"
  }
 },
 "nbformat": 4,
 "nbformat_minor": 2
}
