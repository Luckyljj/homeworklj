{
 "cells": [
  {
   "cell_type": "code",
   "execution_count": 9,
   "metadata": {},
   "outputs": [
    {
     "name": "stdout",
     "output_type": "stream",
     "text": [
      "输入要输出杨辉三角形的行数10\n",
      "1 \n",
      "1 1 \n",
      "1 2 1 \n",
      "1 3 3 1 \n",
      "1 4 6 4 1 \n",
      "1 5 10 10 5 1 \n",
      "1 6 15 20 15 6 1 \n",
      "1 7 21 35 35 21 7 1 \n",
      "1 8 28 56 70 56 28 8 1 \n",
      "1 9 36 84 126 126 84 36 9 1 \n"
     ]
    }
   ],
   "source": [
    "r=int(input(\"输入要输出杨辉三角形的行数\"))\n",
    "x=[0]*r\n",
    "for  i in range(0,r):\n",
    "    for j in range(0,i+1):\n",
    "        if j == 0:\n",
    "            x[0] = x[i] = 1\n",
    "        elif j>0 and j<i:\n",
    "            x[i-j]=x[i-j]+x[i-j-1]\n",
    "    k=0\n",
    "    x.append(0)\n",
    "    while x[k]!=0 and k<r:\n",
    "        print(x[k],end=' ')\n",
    "        k=k+1\n",
    "    print(\"\")"
   ]
  }
 ],
 "metadata": {
  "kernelspec": {
   "display_name": "Python 3",
   "language": "python",
   "name": "python3"
  },
  "language_info": {
   "codemirror_mode": {
    "name": "ipython",
    "version": 3
   },
   "file_extension": ".py",
   "mimetype": "text/x-python",
   "name": "python",
   "nbconvert_exporter": "python",
   "pygments_lexer": "ipython3",
   "version": "3.7.0"
  }
 },
 "nbformat": 4,
 "nbformat_minor": 2
}
