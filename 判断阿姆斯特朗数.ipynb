{
 "cells": [
  {
   "cell_type": "code",
   "execution_count": null,
   "metadata": {},
   "outputs": [],
   "source": [
    "num=int(input(\"请输入一个数字\"))\n",
    "sum=0\n",
    "n=len(str(num))\n",
    "while num>0:\n",
    "    a=num%10\n",
    "    sum+=a**n\n",
    "if sum==num:\n",
    "    print(num,\"是阿姆斯特朗数\")\n",
    "else:\n",
    "    print(num,\"不是阿姆斯特朗数\")"
   ]
  }
 ],
 "metadata": {
  "kernelspec": {
   "display_name": "Python 3",
   "language": "python",
   "name": "python3"
  }
 },
 "nbformat": 4,
 "nbformat_minor": 2
}
